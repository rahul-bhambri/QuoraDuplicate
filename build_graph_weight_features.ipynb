{
 "cells": [
  {
   "cell_type": "code",
   "execution_count": 10,
   "metadata": {
    "collapsed": true
   },
   "outputs": [],
   "source": [
    "import numpy as np\n",
    "import pickle\n",
    "import pandas as pd\n",
    "\n",
    "with open('word_weights.pickle', 'rb') as handle:\n",
    "    weights = pickle.load(handle)\n",
    "    \n",
    "edge_weights = {}\n",
    "\n",
    "\n",
    "def get_weighted_edge_score(row):\n",
    "    q1_words = row[\"question1\"].lower().split()\n",
    "    q2_words = row[\"question2\"].lower().split()\n",
    "\n",
    "    # modify this!\n",
    "    if len(q1_words) == 0 or len(q2_words) == 0:\n",
    "        return 0\n",
    "\n",
    "    common_words = list(set(q1_words).intersection(q2_words))\n",
    "\n",
    "    common_words_score = np.sum([weights.get(w, 0) for w in common_words])\n",
    "    all_words_score = np.sum([weights.get(w, 0) for w in q1_words]) + np.sum(\n",
    "        [weights.get(w, 0) for w in q2_words]) - common_words_score\n",
    "\n",
    "    return common_words_score / all_words_score\n",
    "\n",
    "\n",
    "def generate_edge_scores(row):\n",
    "    node1 = row[\"qid1\"]\n",
    "    node2 = row[\"qid2\"]\n",
    "\n",
    "    if node1 not in edge_weights:\n",
    "        edge_weights[node1] = {}\n",
    "\n",
    "    if node2 not in edge_weights:\n",
    "        edge_weights[node2] = {}\n",
    "\n",
    "    edge_weight = get_weighted_edge_score(row)\n",
    "\n",
    "    edge_weights[node1][node2] = edge_weight\n",
    "    edge_weights[node2][node1] = edge_weight\n",
    "    \n",
    "\n",
    "df_train = pd.read_csv('./train.csv').fillna(\"\")\n",
    "df_test = pd.read_csv('./df_test_with_qid.csv').fillna(\"\")\n",
    "    \n",
    "df_train.apply(generate_edge_scores, axis = 1)\n",
    "df_test.apply(generate_edge_scores, axis = 1)"
   ]
  },
  {
   "cell_type": "code",
   "execution_count": 27,
   "metadata": {},
   "outputs": [
    {
     "data": {
      "text/plain": [
       "[('murwara', 9.999000099990002e-05),\n ('considered,', 9.999000099990002e-05),\n ('considered.', 9.999000099990002e-05),\n ('pieces/rest', 9.999000099990002e-05),\n ('throwaround', 9.999000099990002e-05)]"
      ]
     },
     "execution_count": 27,
     "metadata": {},
     "output_type": "execute_result"
    }
   ],
   "source": [
    "best_words = sorted(weights.items(), key= lambda k:k[1], reverse=True)\n",
    "best_words[:5]"
   ]
  },
  {
   "cell_type": "code",
   "execution_count": 14,
   "metadata": {},
   "outputs": [
    {
     "data": {
      "text/plain": [
       "[(1, {2: 0}),\n (2, {1: 0, 3525799: 0}),\n (3,\n  {4: 0,\n   282170: 0,\n   380197: 0,\n   488853: 0,\n   1368761: 0,\n   1547732: 0,\n   2067378: 0,\n   4044637: 0}),\n (4, {3: 0, 32881: 0, 2600306: 0}),\n (5, {6: 0, 3714518: 0})]"
      ]
     },
     "execution_count": 14,
     "metadata": {},
     "output_type": "execute_result"
    }
   ],
   "source": [
    ""
   ]
  },
  {
   "cell_type": "code",
   "execution_count": 17,
   "metadata": {},
   "outputs": [
    {
     "data": {
      "text/html": [
       "<div>\n",
       "<table border=\"1\" class=\"dataframe\">\n",
       "  <thead>\n",
       "    <tr style=\"text-align: right;\">\n",
       "      <th></th>\n",
       "      <th>id</th>\n",
       "      <th>qid1</th>\n",
       "      <th>qid2</th>\n",
       "      <th>question1</th>\n",
       "      <th>question2</th>\n",
       "      <th>is_duplicate</th>\n",
       "    </tr>\n",
       "  </thead>\n",
       "  <tbody>\n",
       "    <tr>\n",
       "      <th>0</th>\n",
       "      <td>0</td>\n",
       "      <td>1</td>\n",
       "      <td>2</td>\n",
       "      <td>What is the step by step guide to invest in sh...</td>\n",
       "      <td>What is the step by step guide to invest in sh...</td>\n",
       "      <td>0</td>\n",
       "    </tr>\n",
       "    <tr>\n",
       "      <th>1</th>\n",
       "      <td>1</td>\n",
       "      <td>3</td>\n",
       "      <td>4</td>\n",
       "      <td>What is the story of Kohinoor (Koh-i-Noor) Dia...</td>\n",
       "      <td>What would happen if the Indian government sto...</td>\n",
       "      <td>0</td>\n",
       "    </tr>\n",
       "    <tr>\n",
       "      <th>2</th>\n",
       "      <td>2</td>\n",
       "      <td>5</td>\n",
       "      <td>6</td>\n",
       "      <td>How can I increase the speed of my internet co...</td>\n",
       "      <td>How can Internet speed be increased by hacking...</td>\n",
       "      <td>0</td>\n",
       "    </tr>\n",
       "    <tr>\n",
       "      <th>3</th>\n",
       "      <td>3</td>\n",
       "      <td>7</td>\n",
       "      <td>8</td>\n",
       "      <td>Why am I mentally very lonely? How can I solve...</td>\n",
       "      <td>Find the remainder when [math]23^{24}[/math] i...</td>\n",
       "      <td>0</td>\n",
       "    </tr>\n",
       "    <tr>\n",
       "      <th>4</th>\n",
       "      <td>4</td>\n",
       "      <td>9</td>\n",
       "      <td>10</td>\n",
       "      <td>Which one dissolve in water quikly sugar, salt...</td>\n",
       "      <td>Which fish would survive in salt water?</td>\n",
       "      <td>0</td>\n",
       "    </tr>\n",
       "  </tbody>\n",
       "</table>\n",
       "</div>"
      ],
      "text/plain": [
       "<div>\n",
       "<table border=\"1\" class=\"dataframe\">\n",
       "  <thead>\n",
       "    <tr style=\"text-align: right;\">\n",
       "      <th></th>\n",
       "      <th>id</th>\n",
       "      <th>qid1</th>\n",
       "      <th>qid2</th>\n",
       "      <th>question1</th>\n",
       "      <th>question2</th>\n",
       "      <th>is_duplicate</th>\n",
       "    </tr>\n",
       "  </thead>\n",
       "  <tbody>\n",
       "    <tr>\n",
       "      <th>0</th>\n",
       "      <td>0</td>\n",
       "      <td>1</td>\n",
       "      <td>2</td>\n",
       "      <td>What is the step by step guide to invest in sh...</td>\n",
       "      <td>What is the step by step guide to invest in sh...</td>\n",
       "      <td>0</td>\n",
       "    </tr>\n",
       "    <tr>\n",
       "      <th>1</th>\n",
       "      <td>1</td>\n",
       "      <td>3</td>\n",
       "      <td>4</td>\n",
       "      <td>What is the story of Kohinoor (Koh-i-Noor) Dia...</td>\n",
       "      <td>What would happen if the Indian government sto...</td>\n",
       "      <td>0</td>\n",
       "    </tr>\n",
       "    <tr>\n",
       "      <th>2</th>\n",
       "      <td>2</td>\n",
       "      <td>5</td>\n",
       "      <td>6</td>\n",
       "      <td>How can I increase the speed of my internet co...</td>\n",
       "      <td>How can Internet speed be increased by hacking...</td>\n",
       "      <td>0</td>\n",
       "    </tr>\n",
       "    <tr>\n",
       "      <th>3</th>\n",
       "      <td>3</td>\n",
       "      <td>7</td>\n",
       "      <td>8</td>\n",
       "      <td>Why am I mentally very lonely? How can I solve...</td>\n",
       "      <td>Find the remainder when [math]23^{24}[/math] i...</td>\n",
       "      <td>0</td>\n",
       "    </tr>\n",
       "    <tr>\n",
       "      <th>4</th>\n",
       "      <td>4</td>\n",
       "      <td>9</td>\n",
       "      <td>10</td>\n",
       "      <td>Which one dissolve in water quikly sugar, salt...</td>\n",
       "      <td>Which fish would survive in salt water?</td>\n",
       "      <td>0</td>\n",
       "    </tr>\n",
       "  </tbody>\n",
       "</table>\n",
       "</div>"
      ]
     },
     "execution_count": 17,
     "metadata": {},
     "output_type": "execute_result"
    }
   ],
   "source": [
    "df_train.head()"
   ]
  },
  {
   "cell_type": "code",
   "execution_count": 29,
   "metadata": {},
   "outputs": [],
   "source": [
    "with open('edge_weights.pickle', 'wb') as handle:\n",
    "        pickle.dump(edge_weights, handle)"
   ]
  },
  {
   "cell_type": "code",
   "execution_count": 31,
   "metadata": {},
   "outputs": [
    {
     "data": {
      "text/plain": [
       "[(1, {2: 0.50824638344898565}),\n (2, {1: 0.50824638344898565, 3525799: 0.16420049355875502}),\n (3,\n  {4: 0.28510058567647312,\n   282170: 0.00090753822116321746,\n   380197: 0.43365615813260561,\n   488853: 0.00069954674008697716,\n   1368761: 0.23244737234635146,\n   1547732: 0.1740334403267679,\n   2067378: 0.63117983576257164,\n   4044637: 0.15246564726666398}),\n (4,\n  {3: 0.28510058567647312,\n   32881: 0.41756849386861888,\n   2600306: 0.25595373966109775}),\n (5, {6: 0.13975017652410615, 3714518: 0.4498198877247821})]"
      ]
     },
     "execution_count": 31,
     "metadata": {},
     "output_type": "execute_result"
    }
   ],
   "source": [
    "edge_weights.items()[:5]"
   ]
  },
  {
   "cell_type": "code",
   "execution_count": null,
   "metadata": {},
   "outputs": [],
   "source": [
    ""
   ]
  }
 ],
 "metadata": {
  "kernelspec": {
   "display_name": "Python 2",
   "language": "python",
   "name": "python2"
  },
  "language_info": {
   "codemirror_mode": {
    "name": "ipython",
    "version": 2.0
   },
   "file_extension": ".py",
   "mimetype": "text/x-python",
   "name": "python",
   "nbconvert_exporter": "python",
   "pygments_lexer": "ipython2",
   "version": "2.7.6"
  }
 },
 "nbformat": 4,
 "nbformat_minor": 0
}