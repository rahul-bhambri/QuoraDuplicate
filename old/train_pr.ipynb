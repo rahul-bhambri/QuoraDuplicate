{
 "cells": [
  {
   "cell_type": "code",
   "execution_count": null,
   "metadata": {
    "collapsed": true
   },
   "outputs": [],
   "source": [
    "with open('pagerank.pickle', 'rb') as handle:\n",
    "    pr = pickle.load(handle)\n",
    "    \n",
    "with open('qid_graph.pickle', 'rb') as handle:\n",
    "    graph = pickle.load(handle)\n",
    "\n",
    "\n",
    "def get_pagerank_value(row):\n",
    "    return pd.Series({\n",
    "        \"q1_pr\": pr[row[\"qid1\"]],\n",
    "        \"q2_pr\": pr[row[\"qid2\"]]\n",
    "    })\n",
    "\n",
    "# pagerank_feats = df_test.progress_apply(get_pagerank_value, axis=1)\n",
    "# pagerank_feats_1 = df_test[:390000].apply(get_pagerank_value, axis=1)\n",
    "\n",
    "\n",
    "def pagerank_neighbor_features(row):\n",
    "    q1_neighbors = graph[row[\"question1\"]]\n",
    "    q2_neighbors = graph[row[\"question2\"]]\n",
    "    common_neighbors = set(q1_neighbors).intersection(q2_neighbors)\n",
    "    common_neighbors_pr = sum([pr[j] for j in common_neighbors])\n",
    "    q1_neighbors_pr = sum([pr[j] for j in q1_neighbors])\n",
    "    q2_neighbors_pr = sum([pr[j] for j in q2_neighbors])\n",
    "    if q1_neighbors_pr + q2_neighbors_pr - common_neighbors_pr == 0:\n",
    "        return 0\n",
    "    else:\n",
    "        return common_neighbors_pr / (q1_neighbors_pr + q2_neighbors_pr - common_neighbors_pr)\n",
    "\n",
    "\n",
    "def get_pr_ratio(row):\n",
    "    \n",
    "    if row[\"q1_pr\"] != 0 and row[\"q2_pr\"] != 0:\n",
    "        return max(row[\"q1_pr\"]/row[\"q2_pr\"], row[\"q2_pr\"]/row[\"q1_pr\"])\n",
    "    else:\n",
    "        return 0\n",
    "\n",
    "\n",
    "def real_testing(gen_filename, df_with_qs = None, res_file = None):\n",
    "    # Required for initial setup!\n",
    "    old_filename = './old/' + gen_filename \n",
    "    df_with_qs.to_csv(old_filename, index=False)\n",
    "    dataframe_modified = df_with_qs\n",
    "    dataframe_modified[\"pr_neighbor_ratio\"] = df_with_qs.apply(pagerank_neighbor_features, axis = 1)\n",
    "    dataframe_modified[\"pr_diff\"] = abs(dataframe_modified[\"q1_pr\"] - dataframe_modified[\"q2_pr\"])\n",
    "    dataframe_modified[\"pr_avg\"] = (dataframe_modified[\"q1_pr\"] + dataframe_modified[\"q2_pr\"])/2\n",
    "    dataframe_modified[\"pr_ratio\"] = dataframe_modified.apply(get_pr_ratio, axis = 1)\n",
    "    if res_file is None:\n",
    "        new_filename = \"./new/\" + gen_filename\n",
    "    else:\n",
    "        new_filename = \"./new/\" + res_file\n",
    "    dataframe_modified.to_csv(new_filename, index=False)\n",
    "\n",
    "# %reset_selective dataframe_modified \n",
    "\n",
    "real_testing('test_1.csv', df_test[:390000])"
   ]
  },
  {
   "cell_type": "code",
   "execution_count": 3,
   "metadata": {},
   "outputs": [
    {
     "name": "stdout",
     "output_type": "stream",
     "text": [
      "hi\n"
     ]
    }
   ],
   "source": [
    "print 'hi'"
   ]
  },
  {
   "cell_type": "code",
   "execution_count": null,
   "metadata": {},
   "outputs": [],
   "source": [
    "import pickle\n",
    "import pandas as pd\n",
    "\n",
    "# Setting up pagerank features!\n",
    "df_train = pd.read_csv('./train.csv').fillna(\"\")\n",
    "df_test = pd.read_csv('./df_test_with_qid.csv').fillna(\"\")"
   ]
  },
  {
   "cell_type": "code",
   "execution_count": null,
   "metadata": {},
   "outputs": [],
   "source": [
    ""
   ]
  }
 ],
 "metadata": {
  "kernelspec": {
   "display_name": "Python 2",
   "language": "python",
   "name": "python2"
  },
  "language_info": {
   "codemirror_mode": {
    "name": "ipython",
    "version": 2.0
   },
   "file_extension": ".py",
   "mimetype": "text/x-python",
   "name": "python",
   "nbconvert_exporter": "python",
   "pygments_lexer": "ipython2",
   "version": "2.7.6"
  }
 },
 "nbformat": 4,
 "nbformat_minor": 0
}