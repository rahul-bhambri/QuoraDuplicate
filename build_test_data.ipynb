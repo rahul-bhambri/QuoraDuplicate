{
 "cells": [
  {
   "cell_type": "code",
   "execution_count": 1,
   "metadata": {
    "collapsed": true
   },
   "outputs": [],
   "source": [
    "qid_hash = {}\n",
    "max_qid = 0\n"
   ]
  },
  {
   "cell_type": "code",
   "execution_count": 2,
   "metadata": {},
   "outputs": [
    {
     "data": {
      "text/plain": [
       "0"
      ]
     },
     "execution_count": 2,
     "metadata": {},
     "output_type": "execute_result"
    }
   ],
   "source": [
    "max_qid\n"
   ]
  },
  {
   "cell_type": "code",
   "execution_count": 6,
   "metadata": {},
   "outputs": [
    {
     "ename": "AttributeError",
     "evalue": "'DataFrame' object has no attribute 'progress_apply'",
     "traceback": [
      "\u001b[0;31m\u001b[0m",
      "\u001b[0;31mAttributeError\u001b[0mTraceback (most recent call last)",
      "\u001b[0;32m<ipython-input-6-7ff49339669b>\u001b[0m in \u001b[0;36m<module>\u001b[0;34m()\u001b[0m\n\u001b[1;32m     14\u001b[0m \u001b[0mdf_test\u001b[0m \u001b[0;34m=\u001b[0m \u001b[0mpd\u001b[0m\u001b[0;34m.\u001b[0m\u001b[0mread_csv\u001b[0m\u001b[0;34m(\u001b[0m\u001b[0;34m'./test.csv'\u001b[0m\u001b[0;34m)\u001b[0m\u001b[0;34m.\u001b[0m\u001b[0mfillna\u001b[0m\u001b[0;34m(\u001b[0m\u001b[0;34m\"\"\u001b[0m\u001b[0;34m)\u001b[0m\u001b[0;34m\u001b[0m\u001b[0m\n\u001b[1;32m     15\u001b[0m \u001b[0;34m\u001b[0m\u001b[0m\n\u001b[0;32m---> 16\u001b[0;31m \u001b[0mtest_qid_1\u001b[0m \u001b[0;34m=\u001b[0m \u001b[0mpart_qid_generate\u001b[0m\u001b[0;34m(\u001b[0m\u001b[0mdf_test\u001b[0m\u001b[0;34m[\u001b[0m\u001b[0;34m:\u001b[0m\u001b[0;36m390000\u001b[0m\u001b[0;34m]\u001b[0m\u001b[0;34m)\u001b[0m\u001b[0;34m\u001b[0m\u001b[0m\n\u001b[0m\u001b[1;32m     17\u001b[0m \u001b[0mtest_qid_2\u001b[0m \u001b[0;34m=\u001b[0m \u001b[0mpart_qid_generate\u001b[0m\u001b[0;34m(\u001b[0m\u001b[0mdf_test\u001b[0m\u001b[0;34m[\u001b[0m\u001b[0;36m390000\u001b[0m\u001b[0;34m:\u001b[0m\u001b[0;36m780000\u001b[0m\u001b[0;34m]\u001b[0m\u001b[0;34m)\u001b[0m\u001b[0;34m\u001b[0m\u001b[0m\n\u001b[1;32m     18\u001b[0m \u001b[0mtest_qid_3\u001b[0m \u001b[0;34m=\u001b[0m \u001b[0mpart_qid_generate\u001b[0m\u001b[0;34m(\u001b[0m\u001b[0mdf_test\u001b[0m\u001b[0;34m[\u001b[0m\u001b[0;36m780000\u001b[0m\u001b[0;34m:\u001b[0m\u001b[0;36m1170000\u001b[0m\u001b[0;34m]\u001b[0m\u001b[0;34m)\u001b[0m\u001b[0;34m\u001b[0m\u001b[0m\n",
      "\u001b[0;32m<ipython-input-6-7ff49339669b>\u001b[0m in \u001b[0;36mpart_qid_generate\u001b[0;34m(x_test_part)\u001b[0m\n\u001b[1;32m      9\u001b[0m \u001b[0;34m\u001b[0m\u001b[0m\n\u001b[1;32m     10\u001b[0m \u001b[0;32mdef\u001b[0m \u001b[0mpart_qid_generate\u001b[0m\u001b[0;34m(\u001b[0m\u001b[0mx_test_part\u001b[0m\u001b[0;34m)\u001b[0m\u001b[0;34m:\u001b[0m\u001b[0;34m\u001b[0m\u001b[0m\n\u001b[0;32m---> 11\u001b[0;31m     \u001b[0mtest_qid\u001b[0m \u001b[0;34m=\u001b[0m \u001b[0mx_test_part\u001b[0m\u001b[0;34m.\u001b[0m\u001b[0mprogress_apply\u001b[0m\u001b[0;34m(\u001b[0m\u001b[0mtest_to_qid\u001b[0m\u001b[0;34m,\u001b[0m \u001b[0maxis\u001b[0m \u001b[0;34m=\u001b[0m \u001b[0;36m1\u001b[0m\u001b[0;34m)\u001b[0m\u001b[0;34m\u001b[0m\u001b[0m\n\u001b[0m\u001b[1;32m     12\u001b[0m     \u001b[0;32mreturn\u001b[0m \u001b[0mtest_qid\u001b[0m\u001b[0;34m\u001b[0m\u001b[0m\n\u001b[1;32m     13\u001b[0m \u001b[0;34m\u001b[0m\u001b[0m\n",
      "\u001b[0;32m/Users/rahulbhambri/work/venv/lib/python2.7/site-packages/pandas/core/generic.pyc\u001b[0m in \u001b[0;36m__getattr__\u001b[0;34m(self, name)\u001b[0m\n\u001b[1;32m   2148\u001b[0m                 \u001b[0;32mreturn\u001b[0m \u001b[0mself\u001b[0m\u001b[0;34m[\u001b[0m\u001b[0mname\u001b[0m\u001b[0;34m]\u001b[0m\u001b[0;34m\u001b[0m\u001b[0m\n\u001b[1;32m   2149\u001b[0m             raise AttributeError(\"'%s' object has no attribute '%s'\" %\n\u001b[0;32m-> 2150\u001b[0;31m                                  (type(self).__name__, name))\n\u001b[0m\u001b[1;32m   2151\u001b[0m \u001b[0;34m\u001b[0m\u001b[0m\n\u001b[1;32m   2152\u001b[0m     \u001b[0;32mdef\u001b[0m \u001b[0m__setattr__\u001b[0m\u001b[0;34m(\u001b[0m\u001b[0mself\u001b[0m\u001b[0;34m,\u001b[0m \u001b[0mname\u001b[0m\u001b[0;34m,\u001b[0m \u001b[0mvalue\u001b[0m\u001b[0;34m)\u001b[0m\u001b[0;34m:\u001b[0m\u001b[0;34m\u001b[0m\u001b[0m\n",
      "\u001b[0;31mAttributeError\u001b[0m: 'DataFrame' object has no attribute 'progress_apply'"
     ],
     "output_type": "error"
    }
   ],
   "source": [
    "import pandas as pd\n",
    "\n",
    "qid_hash = {}\n",
    "max_qid = 0\n",
    "\n",
    "df_train = pd.read_csv('./train.csv').fillna(\"\")\n",
    "df_train.apply(train_to_qid, axis = 1)\n",
    "%reset_selective -f df_train\n",
    "\n",
    "def part_qid_generate(x_test_part):\n",
    "    test_qid = x_test_part.progress_apply(test_to_qid, axis = 1)\n",
    "    return test_qid\n",
    "    \n",
    "df_test = pd.read_csv('./test.csv').fillna(\"\")\n",
    "\n",
    "test_qid_1 = part_qid_generate(df_test[:390000])\n",
    "test_qid_2 = part_qid_generate(df_test[390000:780000])\n",
    "test_qid_3 = part_qid_generate(df_test[780000:1170000])\n",
    "test_qid_4 = part_qid_generate(df_test[1170000:1560000])\n",
    "test_qid_5 = part_qid_generate(df_test[1560000:1950000])\n",
    "test_qid_6 = part_qid_generate(df_test[1950000:])\n",
    "\n",
    "test_qid = pd.concat([test_qid_1, test_qid_2, test_qid_3, test_qid_4, test_qid_5, test_qid_6])\n",
    "\n",
    "df_test[\"qid1\"] = test_qid.qid1\n",
    "df_test[\"qid2\"] = test_qid.qid2"
   ]
  },
  {
   "cell_type": "code",
   "execution_count": 5,
   "metadata": {},
   "outputs": [],
   "source": [
    "def train_to_qid(row):\n",
    "    \n",
    "    global qid_hash\n",
    "    global max_qid\n",
    "\n",
    "    if row[\"question1\"] not in qid_hash:\n",
    "        qid_hash[row[\"question1\"]] = row[\"qid1\"]    \n",
    "\n",
    "    if row[\"question2\"] not in qid_hash:\n",
    "        qid_hash[row[\"question2\"]] = row[\"qid2\"]  \n",
    "    \n",
    "    max_qid = max(max_qid, row[\"qid1\"], row[\"qid2\"])\n",
    "    \n",
    "#     return max(row[\"qid1\"], row[\"qid2\"])\n",
    "\n",
    "\n",
    "def test_to_qid(row):\n",
    "    global qid_hash\n",
    "    global max_qid\n",
    "\n",
    "    if row[\"question1\"] not in qid_hash:\n",
    "        max_qid += 1\n",
    "\n",
    "        qid_hash[row[\"question1\"]] = max_qid\n",
    "\n",
    "        q1_qid = max_qid\n",
    "    else:\n",
    "        q1_qid = qid_hash[row[\"question1\"]]\n",
    "\n",
    "    if row[\"question2\"] not in qid_hash:\n",
    "        max_qid += 1\n",
    "\n",
    "        qid_hash[row[\"question2\"]] = max_qid\n",
    "\n",
    "        q2_qid = max_qid\n",
    "    else:\n",
    "        q2_qid = qid_hash[row[\"question2\"]]\n",
    "\n",
    "    return pd.Series({\"qid1\":q1_qid,\"qid2\": q2_qid})"
   ]
  },
  {
   "cell_type": "code",
   "execution_count": 8,
   "metadata": {},
   "outputs": [],
   "source": [
    "import pandas as pd\n",
    "\n",
    "qid_hash = {}\n",
    "max_qid = 0\n",
    "\n",
    "df_train = pd.read_csv('./train.csv').fillna(\"\")\n",
    "df_train.apply(train_to_qid, axis = 1)\n",
    "%reset_selective -f df_train\n",
    "\n",
    "\n",
    "def part_qid_generate(x_test_part):\n",
    "    test_qid = x_test_part.apply(test_to_qid, axis = 1)\n",
    "    return test_qid\n",
    "    \n",
    "df_test = pd.read_csv('./test.csv').fillna(\"\")\n",
    "\n",
    "test_qid_1 = part_qid_generate(df_test[:390000])\n",
    "test_qid_2 = part_qid_generate(df_test[390000:780000])\n",
    "test_qid_3 = part_qid_generate(df_test[780000:1170000])\n",
    "test_qid_4 = part_qid_generate(df_test[1170000:1560000])\n",
    "test_qid_5 = part_qid_generate(df_test[1560000:1950000])\n",
    "test_qid_6 = part_qid_generate(df_test[1950000:])\n",
    "\n",
    "test_qid = pd.concat([test_qid_1, test_qid_2, test_qid_3, test_qid_4, test_qid_5, test_qid_6])\n",
    "\n",
    "df_test[\"qid1\"] = test_qid.qid1\n",
    "df_test[\"qid2\"] = test_qid.qid2"
   ]
  },
  {
   "cell_type": "code",
   "execution_count": 10,
   "metadata": {},
   "outputs": [
    {
     "data": {
      "text/html": [
       "<div>\n",
       "<table border=\"1\" class=\"dataframe\">\n",
       "  <thead>\n",
       "    <tr style=\"text-align: right;\">\n",
       "      <th></th>\n",
       "      <th>test_id</th>\n",
       "      <th>question1</th>\n",
       "      <th>question2</th>\n",
       "      <th>qid1</th>\n",
       "      <th>qid2</th>\n",
       "    </tr>\n",
       "  </thead>\n",
       "  <tbody>\n",
       "    <tr>\n",
       "      <th>0</th>\n",
       "      <td>0</td>\n",
       "      <td>How does the Surface Pro himself 4 compare wit...</td>\n",
       "      <td>Why did Microsoft choose core m3 and not core ...</td>\n",
       "      <td>537934</td>\n",
       "      <td>537935</td>\n",
       "    </tr>\n",
       "    <tr>\n",
       "      <th>1</th>\n",
       "      <td>1</td>\n",
       "      <td>Should I have a hair transplant at age 24? How...</td>\n",
       "      <td>How much cost does hair transplant require?</td>\n",
       "      <td>537936</td>\n",
       "      <td>537937</td>\n",
       "    </tr>\n",
       "    <tr>\n",
       "      <th>2</th>\n",
       "      <td>2</td>\n",
       "      <td>What but is the best way to send money from Ch...</td>\n",
       "      <td>What you send money to China?</td>\n",
       "      <td>537938</td>\n",
       "      <td>537939</td>\n",
       "    </tr>\n",
       "    <tr>\n",
       "      <th>3</th>\n",
       "      <td>3</td>\n",
       "      <td>Which food not emulsifiers?</td>\n",
       "      <td>What foods fibre?</td>\n",
       "      <td>537940</td>\n",
       "      <td>537941</td>\n",
       "    </tr>\n",
       "    <tr>\n",
       "      <th>4</th>\n",
       "      <td>4</td>\n",
       "      <td>How \"aberystwyth\" start reading?</td>\n",
       "      <td>How their can I start reading?</td>\n",
       "      <td>537942</td>\n",
       "      <td>537943</td>\n",
       "    </tr>\n",
       "  </tbody>\n",
       "</table>\n",
       "</div>"
      ],
      "text/plain": [
       "<div>\n",
       "<table border=\"1\" class=\"dataframe\">\n",
       "  <thead>\n",
       "    <tr style=\"text-align: right;\">\n",
       "      <th></th>\n",
       "      <th>test_id</th>\n",
       "      <th>question1</th>\n",
       "      <th>question2</th>\n",
       "      <th>qid1</th>\n",
       "      <th>qid2</th>\n",
       "    </tr>\n",
       "  </thead>\n",
       "  <tbody>\n",
       "    <tr>\n",
       "      <th>0</th>\n",
       "      <td>0</td>\n",
       "      <td>How does the Surface Pro himself 4 compare wit...</td>\n",
       "      <td>Why did Microsoft choose core m3 and not core ...</td>\n",
       "      <td>537934</td>\n",
       "      <td>537935</td>\n",
       "    </tr>\n",
       "    <tr>\n",
       "      <th>1</th>\n",
       "      <td>1</td>\n",
       "      <td>Should I have a hair transplant at age 24? How...</td>\n",
       "      <td>How much cost does hair transplant require?</td>\n",
       "      <td>537936</td>\n",
       "      <td>537937</td>\n",
       "    </tr>\n",
       "    <tr>\n",
       "      <th>2</th>\n",
       "      <td>2</td>\n",
       "      <td>What but is the best way to send money from Ch...</td>\n",
       "      <td>What you send money to China?</td>\n",
       "      <td>537938</td>\n",
       "      <td>537939</td>\n",
       "    </tr>\n",
       "    <tr>\n",
       "      <th>3</th>\n",
       "      <td>3</td>\n",
       "      <td>Which food not emulsifiers?</td>\n",
       "      <td>What foods fibre?</td>\n",
       "      <td>537940</td>\n",
       "      <td>537941</td>\n",
       "    </tr>\n",
       "    <tr>\n",
       "      <th>4</th>\n",
       "      <td>4</td>\n",
       "      <td>How \"aberystwyth\" start reading?</td>\n",
       "      <td>How their can I start reading?</td>\n",
       "      <td>537942</td>\n",
       "      <td>537943</td>\n",
       "    </tr>\n",
       "  </tbody>\n",
       "</table>\n",
       "</div>"
      ]
     },
     "execution_count": 10,
     "metadata": {},
     "output_type": "execute_result"
    }
   ],
   "source": [
    "df_test.head()"
   ]
  },
  {
   "cell_type": "code",
   "execution_count": null,
   "metadata": {},
   "outputs": [],
   "source": [
    "df_test.to_csv(\"df_test_with_qid.csv\", index = False)"
   ]
  },
  {
   "cell_type": "code",
   "execution_count": null,
   "outputs": [],
   "source": [
    ""
   ]
  }
 ],
 "metadata": {
  "kernelspec": {
   "display_name": "Python 2",
   "language": "python",
   "name": "python2"
  },
  "language_info": {
   "codemirror_mode": {
    "name": "ipython",
    "version": 2.0
   },
   "file_extension": ".py",
   "mimetype": "text/x-python",
   "name": "python",
   "nbconvert_exporter": "python",
   "pygments_lexer": "ipython2",
   "version": "2.7.6"
  }
 },
 "nbformat": 4,
 "nbformat_minor": 0
}