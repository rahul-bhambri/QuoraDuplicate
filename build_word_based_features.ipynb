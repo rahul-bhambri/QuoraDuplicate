{
 "cells": [
  {
   "cell_type": "code",
   "execution_count": 2,
   "metadata": {
    "collapsed": true
   },
   "outputs": [],
   "source": [
    "import pandas as pd\n",
    "import pickle\n",
    "\n",
    "from sklearn.feature_extraction.text import TfidfVectorizer, CountVectorizer\n",
    "from collections import Counter\n",
    "\n",
    "\n",
    "def get_inverse_freq(inverse_freq, count, min_count=2):\n",
    "    if count < min_count:   \n",
    "        return 0\n",
    "    else:\n",
    "        return inverse_freq\n",
    "\n",
    "\n",
    "df_train = pd.read_csv('./train.csv').fillna(\"\")\n",
    "df_test = pd.read_csv('./df_test_with_qid.csv').fillna(\"\")\n",
    "\n",
    "train_qs = pd.Series(df_train['question1'].tolist() + df_train['question2'].tolist()).astype(str)\n",
    "test_qs = pd.Series(df_test['question1'].tolist() + df_test['question2'].tolist()).astype(str)\n",
    "qs = pd.concat([train_qs, test_qs])\n",
    "\n",
    "\n",
    "tfidf = TfidfVectorizer(max_features = 256, stop_words='english', ngram_range=(1, 1))\n",
    "tfidf.fit_transform(train_qs[0:2500])\n",
    "\n",
    "#Load up the Weights Dictionary\n",
    "words = (\" \".join(qs)).lower().split()\n",
    "counts = Counter(words)\n",
    "weights = {word: get_inverse_freq(1/(10000 + int(count)), count) for word, count in counts.items()}\n",
    "with open('word_weights.pickle', 'wb') as handle:\n",
    "    pickle.dump(weights, handle)\n"
   ]
  },
  {
   "cell_type": "code",
   "execution_count": null,
   "metadata": {},
   "outputs": [],
   "source": [
    ""
   ]
  }
 ],
 "metadata": {
  "kernelspec": {
   "display_name": "Python 2",
   "language": "python",
   "name": "python2"
  },
  "language_info": {
   "codemirror_mode": {
    "name": "ipython",
    "version": 2.0
   },
   "file_extension": ".py",
   "mimetype": "text/x-python",
   "name": "python",
   "nbconvert_exporter": "python",
   "pygments_lexer": "ipython2",
   "version": "2.7.6"
  }
 },
 "nbformat": 4,
 "nbformat_minor": 0
}