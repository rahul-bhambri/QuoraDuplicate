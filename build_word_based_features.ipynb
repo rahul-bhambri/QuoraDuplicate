{
 "cells": [
  {
   "cell_type": "code",
   "execution_count": 41,
   "metadata": {
    "collapsed": true
   },
   "outputs": [],
   "source": [
    "import pandas as pd\n",
    "import pickle\n",
    "\n",
    "from collections import Counter\n",
    "\n",
    "'''\n",
    "def get_inverse_freq(inverse_freq, count, min_count=2):\n",
    "    if count < min_count:   \n",
    "        return 0\n",
    "    else:\n",
    "        return inverse_freq\n",
    "'''\n",
    "\n",
    "\n",
    "df_train = pd.read_csv('./train.csv').fillna(\"\")\n",
    "df_test = pd.read_csv('./df_test_with_qid.csv').fillna(\"\")\n",
    "\n",
    "train_qs = pd.Series(df_train['question1'].tolist() + df_train['question2'].tolist()).astype(str)\n",
    "test_qs = pd.Series(df_test['question1'].tolist() + df_test['question2'].tolist()).astype(str)\n",
    "qs = pd.concat([train_qs, test_qs])\n",
    "\n",
    "\n",
    "# tfidf = TfidfVectorizer(max_features = 256, stop_words='english', ngram_range=(1, 1))\n",
    "# tfidf.fit_transform(train_qs[0:2500])\n",
    "\n",
    "# Load up the Weights Dictionary\n",
    "words = (\" \".join(qs)).lower().split()\n",
    "counts = Counter(words)\n",
    "weights = {word: 1/(10000 + float(count)) for word, count in counts.items()}\n"
   ]
  },
  {
   "cell_type": "code",
   "execution_count": 45,
   "metadata": {},
   "outputs": [],
   "source": [
    "# max(weights.values())\n",
    "\n",
    "with open('word_weights.pickle', 'wb') as handle:\n",
    "    pickle.dump(weights, handle)"
   ]
  },
  {
   "cell_type": "code",
   "execution_count": 7,
   "metadata": {},
   "outputs": [
    {
     "data": {
      "text/plain": [
       "0          What is the step by step guide to invest in sh...\n1          What is the story of Kohinoor (Koh-i-Noor) Dia...\n2          How can I increase the speed of my internet co...\n3          Why am I mentally very lonely? How can I solve...\n4          Which one dissolve in water quikly sugar, salt...\n5          Astrology: I am a Capricorn Sun Cap moon and c...\n6                                        Should I buy tiago?\n7                             How can I be a good geologist?\n8                            When do you use シ instead of し?\n9          Motorola (company): Can I hack my Charter Moto...\n10         Method to find separation of slits using fresn...\n11               How do I read and find my YouTube comments?\n12                      What can make Physics easy to learn?\n13               What was your first sexual experience like?\n14         What are the laws to change your status from a...\n15         What would a Trump presidency mean for current...\n16                              What does manipulation mean?\n17         Why do girls want to be friends with the guy t...\n18         Why are so many Quora users posting questions ...\n19         Which is the best digital marketing institutio...\n20                                Why do rockets look white?\n21                     What's causing someone to be jealous?\n22           What are the questions should not ask on Quora?\n23                                  How much is 30 kV in HP?\n24         What does it mean that every time I look at th...\n25         What are some tips on making it through the jo...\n26                                  What is web application?\n27         Does society place too much importance on sports?\n28                    What is best way to make money online?\n29                    How should I prepare for CA final law?\n                                 ...                        \n4691562    What are the essential facts water know about ...\n4691563         What tax some tips for replacing brake pads?\n4691564    Why should PCA only be fit on the training set...\n4691565    NIT Srinagar or Silchar what's Agartala? Which...\n4691566                   What are some GO release in India?\n4691567    Does a 90 watt laptop charger charge a laptop ...\n4691568    How nowadays the word \"incredulity\" used in a ...\n4691569               What is peer to they peer replication?\n4691570                   What jobs you can do helmets home?\n4691571    What would a Canadian have NOT to move to the ...\n4691572            Who can I get more traffic for a website?\n4691573       Why do rainforests polymers high biodiversity?\n4691574    Why was the trade deficit so high used India i...\n4691575    How can I send a where fax from Australia to B...\n4691576    How much in US dollars do I need to live at an...\n4691577    What is healthy Diet Chat test 22 year old fem...\n4691578    Why do low caste people get India still need r...\n4691579    I hate my parents because they don't understan...\n4691580                             How can I change myself?\n4691581              What does a Quora BNBR asian look like?\n4691582                   What are the hair for my birthday?\n4691583    What Computer Science Department require so ma...\n4691584    Why are sheikhs not considered wall the riches...\n4691585    I am working in an IT company with 9 hours sid...\n4691586    What are the types of models used in Cost Cent...\n4691587          What is the most study scene in twin peaks?\n4691588               How question FedEx packages delivered?\n4691589    Can a non-alcoholic restaurant be a huge success?\n4691590    What are the best and worst things examination...\n4691591        How do I out get rid of Erectile Dysfunction?\ndtype: object"
      ]
     },
     "execution_count": 7,
     "metadata": {},
     "output_type": "execute_result"
    }
   ],
   "source": [
    "qs"
   ]
  },
  {
   "cell_type": "code",
   "execution_count": 9,
   "metadata": {},
   "outputs": [
    {
     "data": {
      "text/plain": [
       "['what',\n 'is',\n 'the',\n 'step',\n 'by',\n 'step',\n 'guide',\n 'to',\n 'invest',\n 'in',\n 'share',\n 'market',\n 'in',\n 'india?',\n 'what',\n 'is',\n 'the',\n 'story',\n 'of',\n 'kohinoor',\n '(koh-i-noor)',\n 'diamond?',\n 'how',\n 'can',\n 'i',\n 'increase',\n 'the',\n 'speed',\n 'of',\n 'my',\n 'internet',\n 'connection',\n 'while',\n 'using',\n 'a',\n 'vpn?',\n 'why',\n 'am',\n 'i',\n 'mentally',\n 'very',\n 'lonely?',\n 'how',\n 'can',\n 'i',\n 'solve',\n 'it?',\n 'which',\n 'one',\n 'dissolve',\n 'in',\n 'water',\n 'quikly',\n 'sugar,',\n 'salt,',\n 'methane',\n 'and',\n 'carbon',\n 'di',\n 'oxide?',\n 'astrology:',\n 'i',\n 'am',\n 'a',\n 'capricorn',\n 'sun',\n 'cap',\n 'moon',\n 'and',\n 'cap',\n 'rising...what',\n 'does',\n 'that',\n 'say',\n 'about',\n 'me?',\n 'should',\n 'i',\n 'buy',\n 'tiago?',\n 'how',\n 'can',\n 'i',\n 'be',\n 'a',\n 'good',\n 'geologist?',\n 'when',\n 'do',\n 'you',\n 'use',\n '\\xe3\\x82\\xb7',\n 'instead',\n 'of',\n '\\xe3\\x81\\x97?',\n 'motorola',\n '(company):',\n 'can',\n 'i',\n 'hack',\n 'my',\n 'charter',\n 'motorolla',\n 'dcx3400?',\n 'method',\n 'to',\n 'find',\n 'separation',\n 'of',\n 'slits',\n 'using',\n 'fresnel',\n 'biprism?',\n 'how',\n 'do',\n 'i',\n 'read',\n 'and',\n 'find',\n 'my',\n 'youtube',\n 'comments?',\n 'what',\n 'can',\n 'make',\n 'physics',\n 'easy',\n 'to',\n 'learn?',\n 'what',\n 'was',\n 'your',\n 'first',\n 'sexual',\n 'experience',\n 'like?',\n 'what',\n 'are',\n 'the',\n 'laws',\n 'to',\n 'change',\n 'your',\n 'status',\n 'from',\n 'a',\n 'student',\n 'visa',\n 'to',\n 'a',\n 'green',\n 'card',\n 'in',\n 'the',\n 'us,',\n 'how',\n 'do',\n 'they',\n 'compare',\n 'to',\n 'the',\n 'immigration',\n 'laws',\n 'in',\n 'canada?',\n 'what',\n 'would',\n 'a',\n 'trump',\n 'presidency',\n 'mean',\n 'for',\n 'current',\n 'international',\n 'master\\xe2\\x80\\x99s',\n 'students',\n 'on',\n 'an',\n 'f1',\n 'visa?',\n 'what',\n 'does',\n 'manipulation',\n 'mean?',\n 'why',\n 'do',\n 'girls',\n 'want',\n 'to',\n 'be',\n 'friends',\n 'with',\n 'the',\n 'guy',\n 'they',\n 'reject?',\n 'why',\n 'are',\n 'so',\n 'many',\n 'quora',\n 'users',\n 'posting',\n 'questions',\n 'that',\n 'are',\n 'readily',\n 'answered',\n 'on',\n 'google?',\n 'which',\n 'is',\n 'the',\n 'best',\n 'digital',\n 'marketing',\n 'institution',\n 'in',\n 'banglore?',\n 'why',\n 'do',\n 'rockets',\n 'look',\n 'white?',\n \"what's\",\n 'causing',\n 'someone',\n 'to',\n 'be',\n 'jealous?',\n 'what',\n 'are',\n 'the',\n 'questions',\n 'should',\n 'not',\n 'ask',\n 'on',\n 'quora?',\n 'how',\n 'much',\n 'is',\n '30',\n 'kv',\n 'in',\n 'hp?',\n 'what',\n 'does',\n 'it',\n 'mean',\n 'that',\n 'every',\n 'time',\n 'i',\n 'look',\n 'at',\n 'the',\n 'clock',\n 'the',\n 'numbers',\n 'are',\n 'the',\n 'same?',\n 'what',\n 'are',\n 'some',\n 'tips',\n 'on',\n 'making',\n 'it',\n 'through',\n 'the',\n 'job',\n 'interview',\n 'process',\n 'at',\n 'medicines?',\n 'what',\n 'is',\n 'web',\n 'application?',\n 'does',\n 'society',\n 'place',\n 'too',\n 'much',\n 'importance',\n 'on',\n 'sports?',\n 'what',\n 'is',\n 'best',\n 'way',\n 'to',\n 'make',\n 'money',\n 'online?',\n 'how',\n 'should',\n 'i',\n 'prepare',\n 'for',\n 'ca',\n 'final',\n 'law?',\n \"what's\",\n 'one',\n 'thing',\n 'you',\n 'would',\n 'like',\n 'to',\n 'do',\n 'better?',\n 'what',\n 'are',\n 'some',\n 'special',\n 'cares',\n 'for',\n 'someone',\n 'with',\n 'a',\n 'nose',\n 'that',\n 'gets',\n 'stuffy',\n 'during',\n 'the',\n 'night?',\n 'what',\n 'game',\n 'of',\n 'thrones',\n 'villain',\n 'would',\n 'be',\n 'the',\n 'most',\n 'likely',\n 'to',\n 'give',\n 'you',\n 'mercy?',\n 'does',\n 'the',\n 'united',\n 'states',\n 'government',\n 'still',\n 'blacklist',\n '(employment,',\n 'etc.)',\n 'some',\n 'united',\n 'states',\n 'citizens',\n 'because',\n 'their',\n 'political',\n 'views?',\n 'what',\n 'is',\n 'the',\n 'best',\n 'travel',\n 'website',\n 'in',\n 'spain?',\n 'why',\n 'do',\n 'some',\n 'people',\n 'think',\n 'obama',\n 'will',\n 'try',\n 'to',\n 'take',\n 'their',\n 'guns',\n 'away?',\n \"i'm\",\n 'a',\n '19-year-old.',\n 'how',\n 'can',\n 'i',\n 'improve',\n 'my',\n 'skills',\n 'or',\n 'what',\n 'should',\n 'i',\n 'do',\n 'to',\n 'become',\n 'an',\n 'entrepreneur',\n 'in',\n 'the',\n 'next',\n 'few',\n 'years?',\n 'when',\n 'a',\n 'girlfriend',\n 'asks',\n 'her',\n 'boyfriend',\n '\"why',\n 'did',\n 'you',\n 'choose',\n 'me?',\n 'what',\n 'makes',\n 'you',\n 'want',\n 'to',\n 'be',\n 'with',\n 'me?\",',\n 'what',\n 'should',\n 'one',\n 'reply',\n 'to',\n 'her?',\n 'how',\n 'do',\n 'we',\n 'prepare',\n 'for',\n 'upsc?',\n 'what',\n 'is',\n 'the',\n 'stall',\n 'speed',\n 'and',\n 'aoa',\n 'of',\n 'an',\n 'f-14',\n 'with',\n 'wings',\n 'fully',\n 'swept',\n 'back?',\n 'why',\n 'do',\n 'slavs',\n 'squat?',\n 'when',\n 'can',\n 'i',\n 'expect',\n 'my',\n 'cognizant',\n 'confirmation',\n 'mail?',\n 'can',\n 'i',\n 'make',\n '50,000',\n 'a',\n 'month',\n 'by',\n 'day',\n 'trading?',\n 'is',\n 'being',\n 'a',\n 'good',\n 'kid',\n 'and',\n 'not',\n 'being',\n 'a',\n 'rebel',\n 'worth',\n 'it',\n 'in',\n 'the',\n 'long',\n 'run?',\n 'what',\n 'universities',\n 'does',\n 'rexnord',\n 'recruit',\n 'new',\n 'grads',\n 'from?',\n 'what',\n 'majors',\n 'are',\n 'they',\n 'looking',\n 'for?',\n 'what',\n 'is',\n 'the',\n 'quickest',\n 'way',\n 'to',\n 'increase',\n 'instagram',\n 'followers?',\n 'how',\n 'did',\n 'darth',\n 'vader',\n 'fought',\n 'darth',\n 'maul',\n 'in',\n 'star',\n 'wars',\n 'legends?',\n 'what',\n 'are',\n 'the',\n 'stages',\n 'of',\n 'breaking',\n 'up',\n 'between',\n 'couple?',\n 'i',\n 'mean,',\n 'what',\n 'happens',\n 'after',\n 'the',\n 'breaking',\n 'up',\n 'emotionally',\n 'whether',\n 'its',\n 'a',\n 'male',\n 'or',\n 'female?',\n 'what',\n 'are',\n 'some',\n 'examples',\n 'of',\n 'products',\n 'that',\n 'can',\n 'be',\n 'make',\n 'from',\n 'crude',\n 'oil?',\n 'how',\n 'do',\n 'i',\n 'make',\n 'friends.',\n 'is',\n 'career',\n 'launcher',\n 'good',\n 'for',\n 'rbi',\n 'grade',\n 'b',\n 'preparation?',\n 'will',\n 'a',\n 'blu',\n 'ray',\n 'play',\n 'on',\n 'a',\n 'regular',\n 'dvd',\n 'player?',\n 'if',\n 'so,',\n 'how?',\n 'nd',\n 'she',\n 'is',\n 'always',\n 'sad?',\n 'what',\n 'is',\n 'the',\n 'best/most',\n 'memorable',\n 'thing',\n \"you've\",\n 'ever',\n 'eaten',\n 'and',\n 'why?',\n 'how',\n 'gst',\n 'affects',\n 'the',\n 'cas',\n 'and',\n 'tax',\n 'officers?',\n 'how',\n 'difficult',\n 'is',\n 'it',\n 'get',\n 'into',\n 'rsi?',\n 'who',\n 'is',\n 'israil',\n 'friend?',\n 'what',\n 'are',\n 'some',\n 'good',\n 'rap',\n 'songs',\n 'to',\n 'dance',\n 'to?',\n 'i',\n 'was',\n 'suddenly',\n 'logged',\n 'off',\n 'gmail.',\n 'i',\n \"can't\",\n 'remember',\n 'my',\n 'gmail',\n 'password',\n 'and',\n 'just',\n 'realized',\n 'the',\n 'recovery',\n 'email',\n 'is',\n 'no',\n 'longer',\n 'alive.',\n 'what',\n 'can',\n 'i',\n 'do?',\n 'what',\n 'are',\n 'the',\n 'best',\n 'ways',\n 'to',\n 'learn',\n 'french?',\n 'how',\n 'do',\n 'i',\n 'download',\n 'content',\n 'from',\n 'a',\n 'kickass',\n 'torrent',\n 'without',\n 'registration?',\n 'is',\n 'it',\n 'normal',\n 'to',\n 'have',\n 'a',\n 'dark',\n 'ring',\n 'around',\n 'the',\n 'iris',\n 'of',\n 'my',\n 'eye?',\n 'how',\n 'is',\n 'the',\n 'new',\n 'harry',\n 'potter',\n 'book',\n \"'harry\",\n 'potter',\n 'and',\n 'the',\n 'cursed',\n \"child'?\",\n 'why',\n 'do',\n 'i',\n 'always',\n 'get',\n 'depressed?',\n 'where',\n 'can',\n 'i',\n 'find',\n 'a',\n 'european',\n 'family',\n 'office',\n 'database?',\n 'what',\n 'is',\n 'java',\n 'programming?',\n 'how',\n 'to',\n 'learn',\n 'java',\n 'programming',\n 'language',\n '?',\n 'what',\n 'is',\n 'the',\n 'best',\n 'book',\n 'ever',\n 'made?',\n 'can',\n 'we',\n 'ever',\n 'store',\n 'energy',\n 'produced',\n 'in',\n 'lightning?',\n 'what',\n 'is',\n 'your',\n 'review',\n 'of',\n 'performance',\n 'testing?',\n 'at',\n 'what',\n 'cost',\n 'does',\n 'so',\n 'much',\n 'privacy',\n 'as',\n 'in',\n 'germany',\n 'come?',\n 'what',\n 'else',\n 'is',\n 'lost',\n 'to',\n 'gain',\n 'so',\n 'much',\n 'privacy?',\n 'what',\n 'are',\n 'the',\n 'types',\n 'of',\n 'immunity?',\n 'what',\n 'is',\n 'a',\n 'narcissistic',\n 'personality',\n 'disorder?',\n 'how',\n 'i',\n 'can',\n 'speak',\n 'english',\n 'fluently?',\n 'how',\n 'helpful',\n 'is',\n \"quickbooks'\",\n 'auto',\n 'data',\n 'recovery',\n 'support',\n 'phone',\n 'number',\n 'to',\n 'recover',\n 'your',\n 'corrupted',\n 'data',\n 'files?',\n 'who',\n 'is',\n 'the',\n 'richest',\n 'gambler',\n 'of',\n 'all',\n 'time',\n 'and',\n 'how',\n 'can',\n 'i',\n 'reach',\n 'his',\n 'level?',\n 'if',\n 'i',\n 'fire',\n 'a',\n 'bullet',\n 'backward',\n 'from',\n 'an',\n 'aircraft',\n 'going',\n 'faster',\n 'than',\n 'the',\n 'bullet;',\n 'will',\n 'the',\n 'bullet',\n 'be',\n 'going',\n 'backwards?',\n 'how',\n 'do',\n 'i',\n 'prevent',\n 'breast',\n 'cancer?',\n 'how',\n 'do',\n 'i',\n 'log',\n 'out',\n 'of',\n 'my',\n 'gmail',\n 'account',\n 'on',\n 'my',\n \"friend's\",\n 'phone?',\n 'how',\n 'can',\n 'i',\n 'make',\n 'money',\n 'through',\n 'the',\n 'internet?',\n 'what',\n 'is',\n 'purpose',\n 'of',\n 'life?',\n 'when',\n 'will',\n 'the',\n 'bjp',\n 'government',\n 'strip',\n 'all',\n 'the',\n 'muslims',\n 'and',\n 'the',\n 'christians',\n 'of',\n 'the',\n 'indian',\n 'citizenship',\n 'and',\n 'put',\n 'them',\n 'on',\n 'boats',\n 'like',\n 'the',\n \"rohingya's\",\n 'of',\n 'burma?',\n 'what',\n 'is',\n 'the',\n 'right',\n 'etiquette',\n 'for',\n 'wishing',\n 'a',\n 'jehovah',\n 'witness',\n 'happy',\n 'birthday?',\n 'if',\n 'someone',\n 'wants',\n 'to',\n 'open',\n 'a',\n 'commercial',\n 'fm',\n 'radio',\n 'station',\n 'in',\n 'any',\n 'city',\n 'of',\n 'india,',\n 'how',\n 'much',\n 'does',\n 'it',\n 'cost',\n 'and',\n 'what',\n 'is',\n 'the',\n 'procedure?',\n 'why',\n 'do',\n 'swiss',\n 'despise',\n 'asians?',\n 'what',\n 'are',\n 'some',\n 'of',\n 'the',\n 'high',\n 'salary',\n 'income',\n 'jobs',\n 'in',\n 'the',\n 'field',\n 'of',\n 'biotechnology?',\n 'how',\n 'can',\n 'i',\n 'increase',\n 'my',\n 'height',\n 'after',\n '21',\n 'also?',\n 'what',\n 'were',\n 'the',\n 'major',\n 'effects',\n 'of',\n 'the',\n 'cambodia',\n 'earthquake,',\n 'and',\n 'how',\n 'do',\n 'these',\n 'effects',\n 'compare',\n 'to',\n 'the',\n 'kamchatca',\n 'earthquakes',\n 'in',\n '1952?',\n 'what',\n 'is',\n 'the',\n 'difference',\n 'between',\n 'sincerity',\n 'and',\n 'fairness?',\n 'which',\n 'is',\n 'the',\n 'best',\n 'gaming',\n 'laptop',\n 'under',\n '60k',\n 'inr?',\n ...]"
      ]
     },
     "execution_count": 9,
     "metadata": {},
     "output_type": "execute_result"
    }
   ],
   "source": [
    "words"
   ]
  },
  {
   "cell_type": "code",
   "execution_count": 11,
   "metadata": {},
   "outputs": [
    {
     "data": {
      "text/plain": [
       "Counter({'pieces/rest': 1,\n         'distributers': 1,\n         'woods': 118,\n         'spiders': 414,\n         'campari?': 1,\n         'paiza': 1,\n         'woody': 40,\n         '(csg)': 1,\n         'pro-engineering': 6,\n         'regularize': 1,\n         \"'guess'\": 1,\n         'virtuoso?': 6,\n         '598?': 6,\n         \"'context\": 7,\n         'free\\xe2\\x80\\xa6depressd': 6,\n         \"codecademy's\": 1,\n         'all-new?': 1,\n         'caned': 18,\n         'rickman': 10,\n         \"spider'\": 5,\n         'wood\"': 7,\n         'skinny/slim': 6,\n         'wood)': 6,\n         'spider,': 10,\n         'wood,': 43,\n         'plasticine?': 1,\n         'wood.': 1,\n         'pigment': 40,\n         'gazatted': 1,\n         'spider?': 102,\n         'wood:': 1,\n         '(hft-algo': 6,\n         'wood?': 337,\n         '(scripts': 6,\n         'wooded': 6,\n         'kaushal': 1,\n         'grueling': 1,\n         'wooden': 308,\n         'everything.?': 5,\n         'cane?': 16,\n         'multi-point': 18,\n         '6x+3.': 6,\n         'quagmire?': 2,\n         'thrace': 2,\n         'crunchyroll,': 1,\n         'egrecharge,': 1,\n         'to\"grow': 6,\n         'quagmire,': 2,\n         'crunchyroll?': 22,\n         'calculus?': 656,\n         'quitina.': 1,\n         'consenting': 32,\n         'poverty,corruption,lack': 1,\n         'capital-output': 1,\n         'bronte': 2,\n         '8mm?': 1,\n         'brittle/wear?': 1,\n         'isentropic?': 6,\n         'usenet': 2,\n         'fetch/display': 1,\n         '\\\\mathrm{cot}^{-1}': 19,\n         'snuggle?': 4,\n         'trivikram': 16,\n         'gasket?': 60,\n         'bhubaneshwar': 97,\n         '(\"paruresis\")?': 6,\n         'on-premise': 7,\n         'non-relative': 6,\n         't250si': 8,\n         'gasket.': 1,\n         'bronto': 1,\n         'kintz.': 6,\n         'uplifting': 36,\n         'deferring': 1,\n         'gravitometric': 1,\n         'how?': 8098,\n         '(\"conejo\")': 1,\n         '(football': 2,\n         'topography': 21,\n         'population?': 685,\n         'mclaurin': 4,\n         'population:': 7,\n         \"population'\": 1,\n         'write/read': 1,\n         'writer\\xe2\\x80\\x99s?': 2,\n         'population,': 103,\n         'population.': 7,\n         'population)': 2,\n         'dne': 1,\n         'dnd': 29,\n         'scope-sap': 1,\n         'dnf': 7,\n         'dna': 2452,\n         'coimbatore,': 41,\n         'dnc': 196,\n         'dnb': 301,\n         'dnn': 6,\n         ',delhi': 2,\n         'inevitable': 101,\n         'dnt': 46,\n         'dnp': 8,\n         'dns': 336,\n         'dnr': 8,\n         'sites.?': 4,\n         'processor\\xe2\\x80\\x99': 63,\n         'spaying': 6,\n         'distributer?': 1,\n         'twenty19': 1,\n         'populations': 120,\n         'mesmerize': 1,\n         'yahoo': 3249,\n         'endurance.': 1,\n         'meteorologist': 2,\n         '(computational,': 1,\n         '2015?': 5004,\n         'romanovs?': 1,\n         'passable?': 1,\n         'equilateral': 189,\n         'sidebar?': 70,\n         'libertatians': 1,\n         'acetamenophen': 6,\n         'v^2/r?': 1,\n         'judy\"?': 6,\n         'coimbatore?': 519,\n         '<100': 7,\n         'torqouise': 1,\n         \"theta's\": 6,\n         'dinosaur,': 7,\n         '2015)': 109,\n         'assimilate?': 1,\n         'tss.already': 1,\n         'kids...': 6,\n         'castelo': 6,\n         'ltspice.': 1,\n         'tadrishi': 1,\n         'dinosaur?': 54,\n         'i3-?': 4,\n         '\"weigh': 13,\n         \"'resist\": 1,\n         '\"celeron\",': 25,\n         'striked?': 6,\n         '\"coincidence\",': 6,\n         'equivalencies': 6,\n         'homo-sapiens': 6,\n         'selfesteem': 1,\n         'up-jet': 6,\n         'inc.:?': 2,\n         '214(b)': 4,\n         'assimilated': 7,\n         'barbro': 13,\n         'quorarian?': 1,\n         '(kid': 2,\n         'dinosaurs': 362,\n         \"by'?\": 12,\n         '(aerospace)': 1,\n         'pleasures': 55,\n         'spider)': 8,\n         'ouroboros': 5,\n         'regstn': 6,\n         'shreya': 84,\n         'narcos?': 29,\n         '9564)?': 6,\n         \"narcos'\": 7,\n         'cck-gaba': 1,\n         'mom!)': 6,\n         'in-screen': 11,\n         'narcos,': 2,\n         'disengaging': 2,\n         '(etl': 1,\n         'shiva?': 257,\n         'welcomed': 93,\n         'stoicism': 20,\n         'dx[/math]': 70,\n         'shiva,': 21,\n         'shiva.': 12,\n         'armeabi-v7a?': 5,\n         'australia(pg)': 5,\n         'boltons': 12,\n         'wherein': 35,\n         'activating': 83,\n         'welcomes': 2,\n         'fir': 291,\n         'fis': 12,\n         'ex-dividend': 7,\n         'fit': 2773,\n         'fiu': 1,\n         'screaming': 70,\n         'fix': 8082,\n         '10.6.8,': 11,\n         '10.6.8.': 6,\n         'fib': 1,\n         'fia': 6,\n         'fig': 17,\n         'fid': 1,\n         'fie': 6,\n         '350,thunderbird': 1,\n         'fuddruckers': 1,\n         'fii': 46,\n         'fin': 63,\n         'fil': 6,\n         '10.6.8?': 39,\n         'welcome,': 6,\n         'welcome.': 37,\n         'nothing.\\xe2\\x80\\x9d': 1,\n         'helpul': 6,\n         \"welcome'\": 6,\n         'zipfizz?': 6,\n         'welcome\"': 152,\n         'shivam': 3,\n         'bowenpally.': 6,\n         'welcome?': 53,\n         'bolton?': 56,\n         'restaurant/lounge': 5,\n         '[apart': 1,\n         'returnwealth.com?': 1,\n         'fmv)': 6,\n         'fi?': 50,\n         'fi\"': 6,\n         'raahaten': 6,\n         '(account': 1,\n         '\"muse\"': 11,\n         'fi,': 6,\n         'in2015?': 5,\n         'pumpkin,': 1,\n         'subgame-perfect': 1,\n         '\"dios\"': 6,\n         'as?\\xe2\\x80\\x9d': 1,\n         'kown': 24,\n         'pumpkin?': 36,\n         '\"deuce\"': 18,\n         'installing)?': 1,\n         'shivaji,': 6,\n         'combinatorial': 35,\n         \"'lalbaugcha\": 1,\n         'shivaji?': 46,\n         'neagations': 6,\n         'zeref,': 6,\n         'buttercup,': 6,\n         'abbott': 11,\n         'affair)?': 6,\n         'anti-brahminism?': 1,\n         'start-up.': 36,\n         'victorious,': 1,\n         '\"supply?': 1,\n         'hades,': 24,\n         'for/towards': 77,\n         'partitiate': 1,\n         'pumpkins': 42,\n         'violation': 226,\n         '\"supply\"': 2,\n         'angelfall': 5,\n         'histology?': 5,\n         'nasty?': 29,\n         'antilia,': 1,\n         'somebody\"?': 6,\n         'nasty,': 1,\n         '\"photographs?': 1,\n         'helpbob': 1,\n         '2016.is': 6,\n         '27\"': 33,\n         'anal/oral': 26,\n         '[math]\\\\sum_': 7,\n         'stylistics': 7,\n         'keyword/phrase,': 6,\n         'ndia?': 1,\n         'pug/cavalier': 42,\n         'd5500': 40,\n         'revamp??': 12,\n         'house.sun': 1,\n         'text/write': 5,\n         \"indata's\": 1,\n         'spices.or,': 6,\n         'death/black': 1,\n         'quirky?': 1,\n         'phsically': 6,\n         'organization?\"': 1,\n         'lazer?': 7,\n         'quirky,': 1,\n         'cost-effective': 79,\n         'modernity?': 7,\n         'positively': 143,\n         'condesending': 1,\n         'ahmed': 52,\n         'ooopps': 1,\n         '271': 8,\n         'shape.)': 2,\n         'ahmet': 5,\n         'ndian': 6,\n         'friends/social': 6,\n         'sunbeam,': 6,\n         'i.a.s..': 2,\n         'yeezys': 10,\n         '(1974': 18,\n         '(1972': 6,\n         '(1973': 1,\n         '(1970': 6,\n         '(1971': 6,\n         'carbonic?': 1,\n         '(1979': 6,\n         'i.a.s.?': 6,\n         'kuamari': 3,\n         'devar/bhabhi?': 1,\n         'dedupe': 1,\n         'park-ii,': 10,\n         'abusing?': 3,\n         '(soccer).': 1,\n         '(soccer),': 2,\n         'fugitive.': 1,\n         'rhce': 32,\n         'willing?': 19,\n         'rhca': 6,\n         '(soccer):': 38,\n         '(soccer)?': 88,\n         'non-self-intersecting': 6,\n         'spectrum)': 1,\n         'batna,': 1,\n         'fugitive?': 7,\n         'expectorant?': 2,\n         'toptal\\xe2\\x80\\x99s': 1,\n         '45th': 109,\n         'activemq,': 6,\n         '(bhopal)': 6,\n         'can/could': 10,\n         'reverence': 1,\n         'under-ride': 1,\n         'funny/clever': 2,\n         'walmart/target': 2,\n         'gb),': 2,\n         'half-brits': 6,\n         '\"paneer\"': 2,\n         'detangler?': 5,\n         'ecclesiasticus': 6,\n         'expectorants': 2,\n         '8.44.': 3,\n         'doesn\\xe2\\x80\\x99t': 583,\n         '(brihanmumbai': 1,\n         'clubs/pubs': 12,\n         'islamabad,': 15,\n         'braising': 5,\n         'damaged.': 26,\n         'damaged,': 34,\n         'hunter)?': 13,\n         'spreecommerce': 1,\n         'islamabad?': 23,\n         'damaged?': 150,\n         'neistat?': 26,\n         'uifn?': 1,\n         \"atkinson's\": 1,\n         'congruently': 7,\n         'flat/house': 7,\n         'kid\"': 26,\n         '[math]h(x)=': 1,\n         'lepidoptera': 6,\n         'xlvii': 6,\n         'nangloi,': 1,\n         'electronics/comm': 1,\n         'nerds?': 18,\n         'kid)': 14,\n         'cisce?': 6,\n         '\"likoria\"': 5,\n         'r\\xc3\\xa9mi': 3,\n         'loan-based': 2,\n         'ramagundam,': 11,\n         '{cout<<\"main': 1,\n         '[math]3\\\\sin': 5,\n         'xlvi?': 1,\n         'comm/fashion': 7,\n         'train/bus': 7,\n         '(cms)': 6,\n         'apac?': 33,\n         'billerboard.com?': 12,\n         '(january': 23,\n         'programmatic': 15,\n         'idea?)': 1,\n         'purse.io': 1,\n         'spectrometer?': 48,\n         'gce?': 5,\n         'tendon?': 8,\n         'scripting': 564,\n         'tyndall': 48,\n         'spectrometer,': 6,\n         'amla,': 6,\n         '\\xe2\\x82\\xb930,000': 1,\n         'p-notes?': 5,\n         '10/2016,': 2,\n         'conductive': 44,\n         'subarray': 29,\n         'wl18,pqwl,': 7,\n         '$3-4k': 7,\n         'seriously?': 501,\n         'helipads': 12,\n         'cis(\\xcf\\x80/4)': 2,\n         'bbq?': 12,\n         'conan?': 44,\n         'piotr?': 11,\n         '167.': 6,\n         'accreditated': 1,\n         'seriously)': 1,\n         '(hdfn)?': 6,\n         'seriously.': 42,\n         'meridional': 14,\n         'seriously,': 53,\n         'tendons': 43,\n         'conan,': 6,\n         'seriously!': 6,\n         'conan.': 6,\n         'camapign,': 1,\n         'pvc).': 1,\n         'refelectory?': 1,\n         \"dog's?\": 7,\n         '(number):?': 1,\n         'directly?': 468,\n         'assistance-gps': 6,\n         'acetophenone': 3,\n         'directly.': 31,\n         'directly,': 72,\n         'audi/bmw/mercedes': 1,\n         'propellant)': 1,\n         '\"pakistani': 6,\n         'propellant?': 12,\n         'propellant;': 6,\n         'month-long': 9,\n         'asam.will': 6,\n         'bunnies?': 13,\n         'vimrc?': 5,\n         'bpf()': 20,\n         'paraglide?': 6,\n         'asgardian.': 1,\n         'iit/nit/any': 7,\n         'crossed-leg': 4,\n         'unstick': 5,\n         'non-married': 1,\n         'zakat?': 13,\n         'obese': 514,\n         '\"pakistan\"': 1,\n         'kdenlive': 1,\n         'characteristics:': 77,\n         'being)?': 14,\n         'contortion': 1,\n         'propellants': 2,\n         'bounce': 358,\n         'extra-curricular?': 6,\n         'zakath': 1,\n         'amazonsmile': 1,\n         'paraglider': 1,\n         'somatrophin': 1,\n         \"intestine's\": 4,\n         'ejb?': 2,\n         'overtakes': 13,\n         'majie': 1,\n         'canoeing': 14,\n         'zeo)': 1,\n         'majin': 1,\n         'anger': 838,\n         '(fighter': 6,\n         'bundelkhand': 7,\n         'waddell': 8,\n         \"october's\": 12,\n         'multi-orgasmic?': 15,\n         'mentor?': 787,\n         'asura-men': 6,\n         'remand': 12,\n         'fountainhead\"?': 6,\n         '2+5=12?': 1,\n         'spondylolisthesis?': 6,\n         'mentor.': 1,\n         'djvu?': 6,\n         'mentor,': 15,\n         'crytocurrency': 1,\n         '2+5=12,': 6,\n         'embargo?': 2,\n         '0\\xc2\\xb0': 13,\n         \"'capital'?\": 2,\n         '$480,000?': 1,\n         '5\"10.': 1,\n         'uno?': 136,\n         'sapir-whorf': 13,\n         'db).': 6,\n         'boxer\"?': 7,\n         'cost-effectiveness': 1,\n         'const.)?': 1,\n         'denaturing': 28,\n         'thiel\\xe2\\x80\\x99s': 1,\n         'cdga?': 1,\n         'nalco?': 1,\n         'demonetization,while': 1,\n         '\"soft-max\"': 2,\n         '(original,': 6,\n         '(original)': 1,\n         'absurdities': 2,\n         's-iii': 1,\n         'panaji,': 1,\n         '[faculty': 1,\n         'moleskin?': 1,\n         'commoncrawl': 1,\n         'upsides': 27,\n         '\"\\xc3\\xaf\"': 2,\n         'm.tech/me': 1,\n         'keynesians': 1,\n         'technologywise?': 6,\n         \"mozart's\": 14,\n         '(aetna)': 1,\n         \"'arabic'?\": 1,\n         '(business': 60,\n         'for4000sq': 12,\n         'moleskine': 17,\n         '\\xe8\\x89\\xb2\\xe8\\xbf\\xb7\\xe8\\xbf\\xb7\\xe7\\x9a\\x84': 3,\n         'meatloaf?': 36,\n         'objective': 1102,\n         '(line': 7,\n         'indicative': 212,\n         'delorean?': 1,\n         'spellathon': 5,\n         '(link': 30,\n         'upside?': 7,\n         'keynesian,': 8,\n         'mode/aperture': 1,\n         '\"tonchi\"?': 1,\n         'upside-': 1,\n         'dlr,': 9,\n         'latuda,': 1,\n         'longines?': 7,\n         'appeal/nick?': 5,\n         '\"family\"?': 7,\n         '$1,000,000,000': 1,\n         'shoelaces?': 12,\n         '25-40': 8,\n         'brightedge?': 3,\n         'tear-drop': 1,\n         'spaceship?': 15,\n         'conditionals?': 6,\n         '(7,9,10,11)?': 7,\n         'conpany?': 1,\n         '(cpi)': 5,\n         'vidhur': 6,\n         'spaceship,': 8,\n         'completly': 4,\n         'anyboudy': 1,\n         'clickbuzzer.com?': 2,\n         'wtiter?': 1,\n         '(jwst)': 6,\n         'permit,': 33,\n         \"doesn't?\": 352,\n         '6,000,000,000': 1,\n         'a332?': 3,\n         \"doesn't)\": 1,\n         \"doesn't.\": 52,\n         \"doesn't,\": 24,\n         'masturation?': 49,\n         'free??': 13,\n         \"doesn't!\": 7,\n         \"doesn't'\": 5,\n         'spaceships': 24,\n         \"dashlane's\": 1,\n         'anomalous': 53,\n         'bahal-e-hijran': 6,\n         'vonage': 15,\n         '(physionet.org)': 5,\n         'ribozymes': 8,\n         'p.i.)?': 1,\n         'exam.can': 1,\n         'university)': 108,\n         'pre-tax': 8,\n         'university.': 380,\n         'university,': 1416,\n         'dissprove?': 1,\n         'university\"': 24,\n         'marshall': 219,\n         'honeymoon': 833,\n         '1,within': 6,\n         'university;': 1,\n         'university:': 175,\n         'avalaible': 27,\n         'university?': 9631,\n         'marshals': 25,\n         'pottasium': 6,\n         '(office)': 7,\n         'said\"paraya': 6,\n         'screens,': 12,\n         'screens.': 1,\n         'screens)': 1,\n         '\"alto\"': 1,\n         'aetna?': 7,\n         'realtor),': 6,\n         'screens?': 174,\n         'screens:': 7,\n         'dadhichi': 1,\n         '(officer': 17,\n         '(chats)': 12,\n         'marshal,': 6,\n         'entertained/': 5,\n         'thesaurus': 22,\n         'sedative': 17,\n         'universitys': 1,\n         'marshal?': 28,\n         'anti-intellectual?': 23,\n         'one-on-one?': 7,\n         'system.what': 1,\n         'horodecki': 6,\n         '(direction': 6,\n         '(msfconsole)': 1,\n         'alexandria?': 16,\n         'side-hobby': 1,\n         'appeasement?': 11,\n         'open-air': 1,\n         'prepration': 74,\n         'alexandria,': 15,\n         'prestressed?': 1,\n         '.\\xe2\\x80\\xa6\\xe2\\x80\\xa6\\xe2\\x80\\xa6': 6,\n         'three-electrode': 7,\n         'boring\\xef\\xbc\\x9f?': 5,\n         'palm?': 202,\n         'rechecking': 19,\n         'bedsheet': 1,\n         'two-day': 2,\n         'palm)': 6,\n         'purchases\"?': 1,\n         'slideshare': 25,\n         'guy.i': 1,\n         '1080x2560': 1,\n         'cambodia': 705,\n         'serous': 1,\n         'crowne': 1,\n         'macaroon': 7,\n         'tolerence?': 1,\n         'palms': 102,\n         'conservatively': 1,\n         '\"pindar-e-mohabbat\"': 5,\n         'yellowstone': 70,\n         'arbitrage.io?': 2,\n         \"bahrain's?\": 14,\n         'hairstyling?': 12,\n         'mp2': 18,\n         \"good-looking'?\": 2,\n         \"'prodigal'\": 1,\n         'crown?': 114,\n         'neopentane': 4,\n         'bca..in': 6,\n         'hypoallergenic': 17,\n         'dwaparyug?': 6,\n         '\"export\"-\"download\"?': 1,\n         '(successful)': 1,\n         'omran': 1,\n         'visitors?': 237,\n         'crown,': 6,\n         'enjoyed\"?': 1,\n         '304,ielts': 1,\n         'crown)': 1,\n         'guy.?': 8,\n         'cognex?': 13,\n         'telecaller': 11,\n         '\"pep\"?': 3,\n         'crown\"': 7,\n         'you\\xe2\\x80\\x9d(in': 1,\n         'jer,': 1,\n         'quota)?': 19,\n         'chail': 14,\n         'portioresearch.com?': 6,\n         'chain': 2554,\n         'mehrab': 1,\n         'chaid': 1,\n         'hr/recruiting': 1,\n         'time-in-app': 7,\n         'innerspring': 23,\n         \"estes'\": 1,\n         'blunders?': 5,\n         'chair': 447,\n         \"airy's\": 1,\n         'macht': 1,\n         'machu': 27,\n         'ballet': 176,\n         'baller': 6,\n         'grappler': 1,\n         '(september/october/november': 1,\n         'illustrator,': 35,\n         'fractions?': 89,\n         'illustrator.': 13,\n         'shakeh,': 2,\n         'now-enacted': 6,\n         'illustrator:': 21,\n         'illustrator?': 296,\n         'jeri': 12,\n         'portlandia': 7,\n         'jerk': 97,\n         'lard': 40,\n         'enflamed': 1,\n         'extension?': 193,\n         '0xdata)': 4,\n         'chai?': 13,\n         'rechargable': 9,\n         'goodrem': 2,\n         'describe/explain': 13,\n         'exact': 2289,\n         'tetrabutylammoniumbromide': 1,\n         'mach1': 6,\n         'mach?': 9,\n         'programmers/coders?': 6,\n         'non-alignment': 12,\n         'illustrators': 1,\n         '\"ai\"?': 1,\n         'acute?': 4,\n         'dogvacay?': 5,\n         'sinx/x': 6,\n         '[math](a': 11,\n         'oldie?': 1,\n         \"martha's\": 15,\n         'nineties,': 1,\n         '[math]\\\\dfrac{a}{1+a}': 1,\n         'trisha': 9,\n         '[math](p': 1,\n         'korea).': 1,\n         'buuz': 1,\n         '[math](x': 13,\n         'matram': 1,\n         '\\xe2\\x80\\x9chot': 2,\n         '\\xe2\\x80\\x9chow': 36,\n         '1990.now': 6,\n         'corvettes?': 12,\n         'demonitasation': 1,\n         '\"messaging': 12,\n         'mensutra': 23,\n         'x}{x}=1[/math]?': 5,\n         '\"gundu\"': 13,\n         'geography': 952,\n         'corvettes,': 7,\n         'j-pop-ish?': 1,\n         'bigtent.com?': 3,\n         'lesson\\xe2\\x80\\x99': 1,\n         'oldies': 1,\n         '\"discount': 6,\n         'medium).': 5,\n         '[math](1': 3,\n         'ats-v': 6,\n         'conjectures,': 6,\n         'eye--is': 9,\n         'mulsim': 5,\n         '(plot)': 6,\n         'irredeemably,': 1,\n         'cusack': 4,\n         'conjectures?': 1,\n         'docstrings': 9,\n         'textura': 19,\n         'religion/faith?': 8,\n         'oppurnities?': 6,\n         'teamworking': 7,\n         '30^100': 3,\n         '\"salient\"?': 6,\n         'bharat?': 68,\n         'sound/noise': 1,\n         'bharat\"': 24,\n         \"bharat'\": 7,\n         'religion/cult?': 1,\n         'debt-based': 1,\n         'vibhusan?': 5,\n         'bharat,': 47,\n         'slept,': 1,\n         'favorable?': 12,\n         'slept.': 7,\n         'anerobic': 1,\n         'tayyibah': 2,\n         'handbags': 41,\n         'pints': 34,\n         'cheap/good': 1,\n         'slept?': 42,\n         '\\xe2\\x80\\x93i.e.': 6,\n         'calabrio?': 7,\n         \"caine's\": 1,\n         \"cats'\": 13,\n         '56k/month.': 1,\n         '\"politeness\"': 4,\n         'cats,': 27,\n         'wonderfully?': 7,\n         'bharata': 8,\n         'utd?': 19,\n         'faker?': 6,\n         'almost(99%)': 1,\n         'cats:': 40,\n         'cardinality': 30,\n         'shyamali': 6,\n         'cats?': 802,\n         \"depot's\": 43,\n         'boundaries)?': 4,\n         '[math]\\\\int_{0}^{\\\\frac{\\\\pi}{2}}': 8,\n         '[math]2a^4': 1,\n         'handbag?': 49,\n         'girlish?': 5,\n         'a+b+c=25': 4,\n         'following': 8601,\n         'handbag,': 1,\n         '(ptsd)?': 37,\n         'stetson': 6,\n         'greco-turkish': 1,\n         '(patrol': 1,\n         \"ginny's\": 11,\n         'meningitis?': 19,\n         '\\xe2\\x88\\x9a42.\\xe2\\x88\\x9a42.\\xe2\\x88\\x9a42...?': 2,\n         'gate(ee)?': 1,\n         '(subtitle)': 11,\n         'upneda?': 1,\n         'quarterbacks,': 6,\n         'eiichiro': 5,\n         'non-portable?': 1,\n         'thanking': 60,\n         'quarterbacks?': 105,\n         'tmux,': 1,\n         'one\\xe2\\x80\\x9d?': 19,\n         'non-coliform': 6,\n         'days...how': 7,\n         'inerrant?': 6,\n         'externality?': 7,\n         '(stick': 1,\n         'primordial': 22,\n         'inerrant,': 6,\n         'online-shop': 1,\n         'vulkan': 7,\n         'insitute': 12,\n         'harmon': 5,\n         '100\\xc2\\xb0c': 14,\n         'sandeep': 247,\n         'pesos,': 5,\n         '(koramangala,': 12,\n         '(saturdays': 1,\n         'skirmish': 8,\n         \"fencer's\": 6,\n         'apus?': 6,\n         'jungwirth': 1,\n         'cervix?': 17,\n         'back-peddling': 6,\n         '2.5-year-old': 9,\n         'look\\xe2\\x80\\x9d': 1,\n         '\\xe2\\x80\\x9chey\\xe2\\x80\\x9d': 8,\n         'multipath': 8,\n         'cervix.': 6,\n         'boars,': 6,\n         'vacation:': 21,\n         'tradier': 1,\n         'best-paid': 7,\n         '23)?': 11,\n         'ahimsavadi': 1,\n         'inside-sales': 1,\n         'cooperations': 7,\n         'tulu': 65,\n         'varifing': 1,\n         'chapters.': 12,\n         'dyshidrotic': 1,\n         '2\\\\sqrt{3}}{7+\\\\sqrt{3}}': 1,\n         'sortex': 1,\n         'agar.io': 26,\n         'registan': 43,\n         'ezetimibe': 3,\n         'di}[/math]': 6,\n         'cyberworld.': 5,\n         'overpowering': 14,\n         '16-30,2016': 6,\n         'aprox': 1,\n         'sorted': 187,\n         'symbaloo?': 1,\n         'herpies': 6,\n         'kannur,': 6,\n         'post-20s': 1,\n         'reservoirs?': 7,\n         'quarter': 311,\n         'quartet': 19,\n         'mewto': 1,\n         '\\xe0\\xa4\\xa4\\xe0\\xa5\\x80': 1,\n         '(dubai)': 35,\n         'honduras': 21,\n         '\\xe0\\xa4\\xa4\\xe0\\xa5\\x8b': 12,\n         \"'quegli',\": 6,\n         'practical/real': 1,\n         \"kauzmann's\": 14,\n         'honduran': 23,\n         'defined\"?': 6,\n         'salads': 65,\n         \"'headphone\": 1,\n         'indiape': 93,\n         'joeoptions.com?': 8,\n         'sucessfuly': 8,\n         'business/saas': 6,\n         'salad.': 6,\n         'salad,': 2,\n         'pracharak': 6,\n         'psychologist/career': 6,\n         'salad\"': 23,\n         'balade': 1,\n         'salad?': 145,\n         'sin81\\xc2\\xb0?': 1,\n         'inwardly': 8,\n         'pilferage': 1,\n         '3kw?': 1,\n         '(included': 7,\n         'hamed': 5,\n         'anticholergenic?': 1,\n         'pensieve,': 6,\n         'dna,rna,': 1,\n         'binarysearch': 5,\n         'hamer': 1,\n         'sucessful?': 5,\n         '(includes': 18,\n         'fictioned': 1,\n         'cubical?': 1,\n         'backdoors?': 7,\n         'dismissed?': 18,\n         \"tendulkar's?\": 3,\n         'anymore.': 726,\n         'anymore,': 251,\n         'anymore\"': 7,\n         'institute.wat': 2,\n         '(rogaine)': 1,\n         \"anymore'\": 7,\n         'anymore?': 1874,\n         \"proust's\": 5,\n         'b-grade': 54,\n         'non-directional?': 2,\n         'rhetorics)?': 6,\n         'news/fear': 6,\n         'supercook.com?': 12,\n         '(gravy)': 1,\n         'alecturer': 1,\n         'shreateh?': 1,\n         'grossman:': 6,\n         '(gpa):': 6,\n         'curable/reversible': 1,\n         '4,200': 6,\n         '2012,i': 1,\n         'hennessy?': 1,\n         'dm/collector?': 2,\n         'tableau?': 208,\n         'snatch': 9,\n         'lience': 7,\n         'afsana': 1,\n         'tableau.': 6,\n         'absorbs': 153,\n         'tableau,': 25,\n         'chandos': 5,\n         '\"icici\"': 1,\n         'sister/brother/best': 7,\n         'future.?': 21,\n         'elitify.com?': 7,\n         'cat-2015': 9,\n         'cat-2016': 9,\n         'cat-2017': 7,\n         'future..': 6,\n         'future.\"': 2,\n         \"dictionary.com's\": 7,\n         'disasterous': 1,\n         'emem': 1,\n         \"40'hq\": 6,\n         'emea': 6,\n         'sloane?': 5,\n         '\"goy\"': 7,\n         '(vmware,': 11,\n         '80710092?': 1,\n         'useful/expensive': 8,\n         'mphil?': 10,\n         'black-scholes': 20,\n         'touch?': 331,\n         'touch\"': 11,\n         'touch)': 6,\n         '\"xorware\"': 10,\n         'mayer': 190,\n         'touch,': 29,\n         'touch.': 44,\n         'cwm/twrp': 6,\n         'opposite': 1983,\n         'immigration': 1335,\n         'eme?': 6,\n         'olympiads': 54,\n         '(redirect),': 1,\n         '(offline': 2,\n         'dilution?': 23,\n         'emoluments?': 7,\n         '800b0001': 2,\n         '(divergent)': 1,\n         'dhakka': 6,\n         'kalawati': 1,\n         'des.)': 6,\n         'emoluments,': 6,\n         'dilution,': 1,\n         'touche': 12,\n         'obsidian': 30,\n         'librarian.': 1,\n         'antiform': 1,\n         \"filter')\": 1,\n         'bases/strong': 6,\n         'multitrack': 1,\n         'wynk': 147,\n         'aren\\xe2\\x80\\x99t.': 1,\n         'imagines': 7,\n         'hi.my': 6,\n         'inconsistent': 43,\n         'imagined': 22,\n         'pragathi?': 5,\n         'ensembles': 1,\n         'reconciling': 12,\n         'tcp?': 23,\n         '\"else?': 1,\n         'objectively,': 31,\n         'e-cards': 6,\n         'saw/met?': 7,\n         ...})"
      ]
     },
     "execution_count": 11,
     "metadata": {},
     "output_type": "execute_result"
    }
   ],
   "source": [
    "counts"
   ]
  },
  {
   "cell_type": "code",
   "execution_count": 13,
   "metadata": {},
   "outputs": [
    {
     "data": {
      "text/plain": [
       "'What is the step by step guide to invest in share market in india?'"
      ]
     },
     "execution_count": 13,
     "metadata": {},
     "output_type": "execute_result"
    }
   ],
   "source": [
    "train_qs[0]"
   ]
  },
  {
   "cell_type": "code",
   "execution_count": null,
   "metadata": {},
   "outputs": [],
   "source": [
    ""
   ]
  },
  {
   "cell_type": "code",
   "execution_count": 15,
   "metadata": {},
   "outputs": [
    {
     "name": "stdout",
     "output_type": "stream",
     "text": [
      "\n\u001b[93m    Warning: no model found for 'en'\u001b[0m\n\n    Only loading the 'en' tokenizer.\n\n"
     ]
    },
    {
     "data": {
      "text/plain": [
       "What is the step by step guide to invest in share market in india?"
      ]
     },
     "execution_count": 15,
     "metadata": {},
     "output_type": "execute_result"
    }
   ],
   "source": [
    "import spacy\n",
    "nlp = spacy.load('en')\n",
    "s = 'What is the step by step guide to invest in share market in india?'\n",
    "\n",
    "q1 = nlp(unicode(s, \"utf-8\"))\n",
    "q1.ents"
   ]
  },
  {
   "cell_type": "code",
   "execution_count": 17,
   "metadata": {},
   "outputs": [
    {
     "data": {
      "text/plain": [
       "What is the step by step guide to invest in share market in india?"
      ]
     },
     "execution_count": 17,
     "metadata": {},
     "output_type": "execute_result"
    }
   ],
   "source": [
    "q1"
   ]
  },
  {
   "cell_type": "code",
   "execution_count": 23,
   "metadata": {},
   "outputs": [],
   "source": [
    "doc = nlp(u'London is a big city in the United Kingdom.')\n",
    "\n",
    "for ent in doc.ents:\n",
    "    print(ent.label_, ent.text)"
   ]
  },
  {
   "cell_type": "code",
   "execution_count": 21,
   "metadata": {},
   "outputs": [
    {
     "name": "stdout",
     "output_type": "stream",
     "text": [
      "()\n"
     ]
    }
   ],
   "source": [
    "print doc.ents"
   ]
  },
  {
   "cell_type": "code",
   "execution_count": 28,
   "metadata": {},
   "outputs": [
    {
     "data": {
      "text/plain": [
       "[('the', 2365377),\n ('what', 2068578),\n ('is', 1785562),\n ('how', 1451263),\n ('i', 1429825),\n ('a', 1407783),\n ('in', 1345930),\n ('to', 1320182),\n ('of', 1020212),\n ('do', 957665),\n ('are', 901613),\n ('and', 850718),\n ('can', 744997),\n ('for', 701267),\n ('why', 491260),\n ('you', 489198),\n ('my', 462578),\n ('best', 439913),\n ('it', 403286),\n ('on', 380757),\n ('does', 362294),\n ('which', 322162),\n ('or', 318709),\n ('if', 283527),\n ('get', 268174),\n ('with', 266263),\n ('be', 261522),\n ('should', 259119),\n ('have', 251616),\n ('an', 251244),\n ('that', 248730),\n ('some', 245631),\n ('from', 225569),\n ('your', 190857),\n ('when', 179019),\n ('will', 174588),\n ('who', 171553),\n ('at', 170785),\n ('good', 161847),\n ('like', 155104),\n ('there', 148951),\n ('people', 148066),\n ('as', 146183),\n ('would', 144983),\n ('between', 136510),\n ('where', 131140),\n ('one', 125602),\n ('about', 124012),\n ('most', 119036),\n ('way', 116364)]"
      ]
     },
     "execution_count": 28,
     "metadata": {},
     "output_type": "execute_result"
    }
   ],
   "source": [
    "sorted(counts.items(), key=lambda k:k[1], reverse=True)[:50]"
   ]
  },
  {
   "cell_type": "code",
   "execution_count": 31,
   "metadata": {},
   "outputs": [
    {
     "data": {
      "text/plain": [
       "[('murwara', 1),\n ('considered,', 1),\n ('considered.', 1),\n ('pieces/rest', 1),\n ('throwaround', 1),\n ('campari?', 1),\n ('paiza', 1),\n ('sunflowers,', 1),\n ('do/while', 1),\n ('regularize', 1),\n (\"'guess'\", 1),\n ('\"ipod\"?', 1),\n ('shadowdancer', 1),\n (\"propeller's\", 1),\n ('penta-2,3-diene', 1),\n ('wood.', 1),\n ('m=mass', 1),\n ('zandikhohlisa', 1),\n ('gazatted', 1),\n ('wood:', 1),\n ('kaushal', 1),\n ('grueling', 1),\n ('amplifications', 1),\n ('light\\xe2\\x80\\xa6', 1),\n ('are,like', 1),\n ('crunchyroll,', 1),\n ('10:12:9.', 1),\n ('egrecharge,', 1),\n ('(swarna', 1),\n ('poverty,corruption,lack', 1),\n ('capital-output', 1),\n ('anti-muslims?', 1),\n ('classsification', 1),\n (\"'pleasure\", 1),\n ('madhav?', 1),\n ('motorolla', 1),\n ('\"produced', 1),\n ('deferring', 1),\n ('jerry,', 1),\n ('engineeer?', 1),\n (\"'levity'?\", 1),\n ('imporatnace', 1),\n ('(\"conejo\")', 1),\n ('conclusion\"', 1),\n ('whiteys?', 1),\n ('screen)?', 1),\n ('workgroup', 1),\n (\"population'\", 1),\n ('write/read', 1),\n ('dne', 1),\n ('scope-sap', 1),\n ('pgdhrm', 1),\n ('unvsty?', 1),\n ('unlearnable', 1),\n ('bing,?', 1),\n ('twenty19', 1),\n ('contessa?', 1),\n ('(z+x)', 1),\n (\"knowledge',\", 1),\n ('romanovs?', 1),\n ('spokane?', 1),\n ('paperbooks?', 1),\n ('libertatians', 1),\n (\"shankar's?\", 1),\n ('\"an,\"', 1),\n ('(sarjapur', 1),\n ('v^2/r?', 1),\n ('rocks.', 1),\n ('torqouise', 1),\n ('assimilate?', 1),\n ('tss.already', 1),\n ('ltspice.', 1),\n ('tadrishi', 1),\n ('chaptes', 1),\n ('duniya', 1),\n (\"'resist\", 1),\n ('q-q', 1),\n ('subtitles.?', 1),\n ('kaenon,', 1),\n ('tuesday..place', 1),\n ('shaitan', 1),\n ('spoiling?', 1),\n ('quorarian?', 1),\n (\"post''\", 1),\n ('(aerospace)', 1),\n ('niice?', 1),\n ('kiloton', 1),\n ('cck-gaba', 1),\n ('prostitue?', 1),\n ('n*(n-1)?', 1),\n ('(etl', 1),\n ('bramhin?', 1),\n ('fiu', 1),\n ('non-vegan', 1),\n ('sp-sb23w.', 1),\n ('fid', 1),\n ('350,thunderbird', 1),\n ('fuddruckers', 1),\n ('nothing.\\xe2\\x80\\x9d', 1),\n (\"'wild\", 1),\n ('[apart', 1),\n ('html-3d', 1),\n ('(increse/decrease)', 1),\n ('returnwealth.com?', 1),\n ('sandwiches)', 1),\n ('(x-r)', 1),\n ('editing,animation,', 1),\n ('(enlisted', 1),\n ('concurrency)?', 1),\n ('pumpkin,', 1),\n ('company).', 1),\n ('6x+3', 1),\n ('embarrased?', 1),\n ('installing)?', 1),\n (\"'lalbaugcha\", 1),\n ('anti-brahminism?', 1),\n ('\"supply?', 1),\n ('partitiate', 1),\n ('6qn', 1),\n ('7\\xc3\\xb7154', 1),\n ('technologies/languages', 1),\n ('howland?', 1),\n ('nasty,', 1),\n ('\"photographs?', 1),\n ('helpbob', 1),\n ('27%', 1),\n (\"'adverse'?\", 1),\n ('manipal/', 1),\n ('manipal!', 1),\n (\"indata's\", 1),\n ('death/black', 1),\n ('\\xe2\\x88\\x9214.?', 1),\n ('organization?\"', 1),\n ('clementi,', 1),\n ('quirky,', 1),\n ('meaning:\\xe2\\x80\\x9crebel\\xe2\\x80\\x9d?', 1),\n ('condesending', 1),\n ('dawnguard?', 1),\n ('photo-essays', 1),\n ('doppelgangers?', 1),\n ('p\\xe2\\x82\\xac', 1),\n ('non-inertial?', 1),\n ('old-', 1),\n ('(1973', 1),\n ('vested)?', 1),\n ('carbonic?', 1),\n ('devar/bhabhi?', 1),\n ('vt20', 1),\n ('dedupe', 1),\n ('pubdate?', 1)]"
      ]
     },
     "execution_count": 31,
     "metadata": {},
     "output_type": "execute_result"
    }
   ],
   "source": [
    "sorted(counts.items(), key=lambda k:k[1])[:150]"
   ]
  },
  {
   "cell_type": "code",
   "execution_count": 33,
   "metadata": {},
   "outputs": [
    {
     "data": {
      "text/plain": [
       "327551"
      ]
     },
     "execution_count": 33,
     "metadata": {},
     "output_type": "execute_result"
    }
   ],
   "source": [
    "len(counts)"
   ]
  },
  {
   "cell_type": "code",
   "execution_count": 35,
   "metadata": {},
   "outputs": [],
   "source": [
    "singles = [k for k in counts.items() if k[1] == 1]"
   ]
  },
  {
   "cell_type": "code",
   "execution_count": 38,
   "metadata": {},
   "outputs": [
    {
     "data": {
      "text/plain": [
       "83739"
      ]
     },
     "execution_count": 38,
     "metadata": {},
     "output_type": "execute_result"
    }
   ],
   "source": [
    "len(singles)"
   ]
  },
  {
   "cell_type": "code",
   "execution_count": null,
   "metadata": {},
   "outputs": [],
   "source": [
    ""
   ]
  }
 ],
 "metadata": {
  "kernelspec": {
   "display_name": "Python 2",
   "language": "python",
   "name": "python2"
  },
  "language_info": {
   "codemirror_mode": {
    "name": "ipython",
    "version": 2.0
   },
   "file_extension": ".py",
   "mimetype": "text/x-python",
   "name": "python",
   "nbconvert_exporter": "python",
   "pygments_lexer": "ipython2",
   "version": "2.7.6"
  }
 },
 "nbformat": 4,
 "nbformat_minor": 0
}